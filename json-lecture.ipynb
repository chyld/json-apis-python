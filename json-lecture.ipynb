{
 "cells": [
  {
   "cell_type": "markdown",
   "metadata": {},
   "source": [
    "# Master Template"
   ]
  },
  {
   "cell_type": "code",
   "execution_count": 1,
   "metadata": {},
   "outputs": [],
   "source": [
    "# imports\n",
    "import numpy as np\n",
    "import pandas as pd\n",
    "import xarray as xr\n",
    "import matplotlib.pyplot as plt\n",
    "import seaborn as sns\n",
    "import tensorflow as tf\n",
    "import torch\n",
    "\n",
    "# set numeric precison\n",
    "pd.set_option(\"precision\", 2)\n",
    "torch.set_printoptions(precision=2, sci_mode=False)\n",
    "%precision 2\n",
    "\n",
    "# enable reload of changed files\n",
    "%load_ext autoreload\n",
    "%autoreload 2\n",
    "\n",
    "# plot inline\n",
    "%matplotlib inline"
   ]
  },
  {
   "cell_type": "markdown",
   "metadata": {},
   "source": [
    "# Part 1"
   ]
  },
  {
   "cell_type": "code",
   "execution_count": 2,
   "metadata": {},
   "outputs": [],
   "source": [
    "# talk about JSON and XML"
   ]
  },
  {
   "cell_type": "code",
   "execution_count": 3,
   "metadata": {},
   "outputs": [],
   "source": [
    "# talk about HTTP methods: GET, POST, PUT, DELETE"
   ]
  },
  {
   "cell_type": "code",
   "execution_count": 4,
   "metadata": {},
   "outputs": [],
   "source": [
    "# talk about serialization"
   ]
  },
  {
   "cell_type": "code",
   "execution_count": 5,
   "metadata": {},
   "outputs": [],
   "source": [
    "import json"
   ]
  },
  {
   "cell_type": "code",
   "execution_count": 6,
   "metadata": {},
   "outputs": [
    {
     "data": {
      "text/plain": [
       "{'name': 'bob', 'age': 3}"
      ]
     },
     "execution_count": 6,
     "metadata": {},
     "output_type": "execute_result"
    }
   ],
   "source": [
    "json.loads('{\"name\": \"bob\", \"age\" : 3}')"
   ]
  },
  {
   "cell_type": "code",
   "execution_count": 7,
   "metadata": {},
   "outputs": [],
   "source": [
    "# online JSON viewers\n",
    "# jsonviewer.stack.hu\n",
    "# jsonformatter.org/json-parser"
   ]
  },
  {
   "cell_type": "markdown",
   "metadata": {},
   "source": [
    "# Part 2"
   ]
  },
  {
   "cell_type": "code",
   "execution_count": 9,
   "metadata": {},
   "outputs": [],
   "source": [
    "import requests"
   ]
  },
  {
   "cell_type": "code",
   "execution_count": 10,
   "metadata": {},
   "outputs": [],
   "source": [
    "r = requests.get('https://dog.ceo/api/breeds/image/random')"
   ]
  },
  {
   "cell_type": "code",
   "execution_count": 11,
   "metadata": {},
   "outputs": [
    {
     "data": {
      "text/plain": [
       "{'message': 'https://images.dog.ceo/breeds/terrier-dandie/n02096437_858.jpg',\n",
       " 'status': 'success'}"
      ]
     },
     "execution_count": 11,
     "metadata": {},
     "output_type": "execute_result"
    }
   ],
   "source": [
    "r.json() # content, headers, json, status_code, text, url"
   ]
  },
  {
   "cell_type": "code",
   "execution_count": 12,
   "metadata": {},
   "outputs": [],
   "source": [
    "from IPython.display import Image, display\n",
    "from IPython.core.display import HTML \n",
    "import matplotlib.image as mpimg"
   ]
  },
  {
   "cell_type": "code",
   "execution_count": 13,
   "metadata": {},
   "outputs": [
    {
     "data": {
      "text/html": [
       "<img src=\"https://images.dog.ceo/breeds/doberman/n02107142_4632.jpg\" width=\"300\"/>"
      ],
      "text/plain": [
       "<IPython.core.display.Image object>"
      ]
     },
     "metadata": {},
     "output_type": "display_data"
    },
    {
     "data": {
      "text/html": [
       "<img src=\"https://images.dog.ceo/breeds/keeshond/n02112350_8390.jpg\" width=\"300\"/>"
      ],
      "text/plain": [
       "<IPython.core.display.Image object>"
      ]
     },
     "metadata": {},
     "output_type": "display_data"
    },
    {
     "data": {
      "text/html": [
       "<img src=\"https://images.dog.ceo/breeds/terrier-westhighland/n02098286_2257.jpg\" width=\"300\"/>"
      ],
      "text/plain": [
       "<IPython.core.display.Image object>"
      ]
     },
     "metadata": {},
     "output_type": "display_data"
    }
   ],
   "source": [
    "for i in range(3):\n",
    "    r = requests.get('https://dog.ceo/api/breeds/image/random')\n",
    "    j = r.json()\n",
    "    m = j['message']\n",
    "    display(Image(url=m, width=300))"
   ]
  },
  {
   "cell_type": "markdown",
   "metadata": {},
   "source": [
    "# Part 3"
   ]
  },
  {
   "cell_type": "code",
   "execution_count": 14,
   "metadata": {},
   "outputs": [],
   "source": [
    "r = requests.get('https://api.covid19api.com/countries')"
   ]
  },
  {
   "cell_type": "code",
   "execution_count": 15,
   "metadata": {},
   "outputs": [
    {
     "data": {
      "text/plain": [
       "248"
      ]
     },
     "execution_count": 15,
     "metadata": {},
     "output_type": "execute_result"
    }
   ],
   "source": [
    "# json.loads(r.text)\n",
    "countries = r.json()\n",
    "len(countries)"
   ]
  },
  {
   "cell_type": "code",
   "execution_count": 16,
   "metadata": {},
   "outputs": [
    {
     "data": {
      "text/plain": [
       "array([None, None, None, None, None, None, None, None, None, None],\n",
       "      dtype=object)"
      ]
     },
     "execution_count": 16,
     "metadata": {},
     "output_type": "execute_result"
    }
   ],
   "source": [
    "names = np.empty((248), dtype='object')\n",
    "names[:10]"
   ]
  },
  {
   "cell_type": "code",
   "execution_count": 17,
   "metadata": {},
   "outputs": [],
   "source": [
    "for i, c in enumerate(countries):\n",
    "    names[i] = c['Country']"
   ]
  },
  {
   "cell_type": "code",
   "execution_count": 18,
   "metadata": {},
   "outputs": [
    {
     "data": {
      "text/plain": [
       "0      Senegal\n",
       "1       Tuvalu\n",
       "2    Gibraltar\n",
       "Name: Countries, dtype: object"
      ]
     },
     "execution_count": 18,
     "metadata": {},
     "output_type": "execute_result"
    }
   ],
   "source": [
    "series = pd.Series(names, name='Countries')\n",
    "series.head(3)"
   ]
  },
  {
   "cell_type": "code",
   "execution_count": 19,
   "metadata": {},
   "outputs": [
    {
     "data": {
      "text/plain": [
       "168                           Zimbabwe\n",
       "95                              Zambia\n",
       "219                              Yemen\n",
       "223                     Western Sahara\n",
       "180          Wallis and Futuna Islands\n",
       "94                  Virgin Islands, US\n",
       "241                           Viet Nam\n",
       "122    Venezuela (Bolivarian Republic)\n",
       "45                             Vanuatu\n",
       "140                         Uzbekistan\n",
       "Name: Countries, dtype: object"
      ]
     },
     "execution_count": 19,
     "metadata": {},
     "output_type": "execute_result"
    }
   ],
   "source": [
    "# top 10 countries in descending order\n",
    "series.sort_values(ascending=False)[:10]"
   ]
  },
  {
   "cell_type": "markdown",
   "metadata": {},
   "source": [
    "# Part 4"
   ]
  },
  {
   "cell_type": "code",
   "execution_count": 20,
   "metadata": {},
   "outputs": [],
   "source": [
    "r = requests.get('https://api.covid19api.com/summary')\n",
    "j = r.json()"
   ]
  },
  {
   "cell_type": "code",
   "execution_count": 21,
   "metadata": {},
   "outputs": [],
   "source": [
    "df = pd.DataFrame(columns=['country', 'confirmed', 'deaths', 'recovered'])\n",
    "for c in j['Countries']:\n",
    "    name = c['Country']\n",
    "    confirmed = c['TotalConfirmed']\n",
    "    deaths = c['TotalDeaths']\n",
    "    recovered = c['TotalRecovered']\n",
    "    row = pd.Series([name, confirmed, deaths, recovered], index=['country', 'confirmed', 'deaths', 'recovered'])\n",
    "    df = df.append(row, ignore_index=True)"
   ]
  },
  {
   "cell_type": "code",
   "execution_count": 22,
   "metadata": {},
   "outputs": [],
   "source": [
    "df = df.astype({'country': 'object', 'confirmed' : 'int32', 'deaths' : 'int32', 'recovered' : 'int32'})"
   ]
  },
  {
   "cell_type": "code",
   "execution_count": 23,
   "metadata": {},
   "outputs": [
    {
     "name": "stdout",
     "output_type": "stream",
     "text": [
      "<class 'pandas.core.frame.DataFrame'>\n",
      "RangeIndex: 189 entries, 0 to 188\n",
      "Data columns (total 4 columns):\n",
      " #   Column     Non-Null Count  Dtype \n",
      "---  ------     --------------  ----- \n",
      " 0   country    189 non-null    object\n",
      " 1   confirmed  189 non-null    int32 \n",
      " 2   deaths     189 non-null    int32 \n",
      " 3   recovered  189 non-null    int32 \n",
      "dtypes: int32(3), object(1)\n",
      "memory usage: 3.8+ KB\n"
     ]
    }
   ],
   "source": [
    "df.info()"
   ]
  },
  {
   "cell_type": "code",
   "execution_count": 24,
   "metadata": {},
   "outputs": [
    {
     "data": {
      "text/html": [
       "<div>\n",
       "<style scoped>\n",
       "    .dataframe tbody tr th:only-of-type {\n",
       "        vertical-align: middle;\n",
       "    }\n",
       "\n",
       "    .dataframe tbody tr th {\n",
       "        vertical-align: top;\n",
       "    }\n",
       "\n",
       "    .dataframe thead th {\n",
       "        text-align: right;\n",
       "    }\n",
       "</style>\n",
       "<table border=\"1\" class=\"dataframe\">\n",
       "  <thead>\n",
       "    <tr style=\"text-align: right;\">\n",
       "      <th></th>\n",
       "      <th>country</th>\n",
       "      <th>confirmed</th>\n",
       "      <th>deaths</th>\n",
       "      <th>recovered</th>\n",
       "    </tr>\n",
       "  </thead>\n",
       "  <tbody>\n",
       "    <tr>\n",
       "      <th>0</th>\n",
       "      <td>Afghanistan</td>\n",
       "      <td>40833</td>\n",
       "      <td>1514</td>\n",
       "      <td>34129</td>\n",
       "    </tr>\n",
       "    <tr>\n",
       "      <th>1</th>\n",
       "      <td>Albania</td>\n",
       "      <td>19157</td>\n",
       "      <td>477</td>\n",
       "      <td>10654</td>\n",
       "    </tr>\n",
       "    <tr>\n",
       "      <th>2</th>\n",
       "      <td>Algeria</td>\n",
       "      <td>56143</td>\n",
       "      <td>1914</td>\n",
       "      <td>39095</td>\n",
       "    </tr>\n",
       "    <tr>\n",
       "      <th>3</th>\n",
       "      <td>Andorra</td>\n",
       "      <td>4038</td>\n",
       "      <td>69</td>\n",
       "      <td>2729</td>\n",
       "    </tr>\n",
       "    <tr>\n",
       "      <th>4</th>\n",
       "      <td>Angola</td>\n",
       "      <td>9381</td>\n",
       "      <td>268</td>\n",
       "      <td>3508</td>\n",
       "    </tr>\n",
       "  </tbody>\n",
       "</table>\n",
       "</div>"
      ],
      "text/plain": [
       "       country  confirmed  deaths  recovered\n",
       "0  Afghanistan      40833    1514      34129\n",
       "1      Albania      19157     477      10654\n",
       "2      Algeria      56143    1914      39095\n",
       "3      Andorra       4038      69       2729\n",
       "4       Angola       9381     268       3508"
      ]
     },
     "execution_count": 24,
     "metadata": {},
     "output_type": "execute_result"
    }
   ],
   "source": [
    "df.head(5)"
   ]
  },
  {
   "cell_type": "code",
   "execution_count": 25,
   "metadata": {},
   "outputs": [
    {
     "data": {
      "text/html": [
       "<div>\n",
       "<style scoped>\n",
       "    .dataframe tbody tr th:only-of-type {\n",
       "        vertical-align: middle;\n",
       "    }\n",
       "\n",
       "    .dataframe tbody tr th {\n",
       "        vertical-align: top;\n",
       "    }\n",
       "\n",
       "    .dataframe thead th {\n",
       "        text-align: right;\n",
       "    }\n",
       "</style>\n",
       "<table border=\"1\" class=\"dataframe\">\n",
       "  <thead>\n",
       "    <tr style=\"text-align: right;\">\n",
       "      <th></th>\n",
       "      <th>country</th>\n",
       "      <th>confirmed</th>\n",
       "      <th>deaths</th>\n",
       "      <th>recovered</th>\n",
       "    </tr>\n",
       "  </thead>\n",
       "  <tbody>\n",
       "    <tr>\n",
       "      <th>180</th>\n",
       "      <td>United States of America</td>\n",
       "      <td>8635966</td>\n",
       "      <td>225229</td>\n",
       "      <td>3422878</td>\n",
       "    </tr>\n",
       "    <tr>\n",
       "      <th>23</th>\n",
       "      <td>Brazil</td>\n",
       "      <td>5380635</td>\n",
       "      <td>156903</td>\n",
       "      <td>4526393</td>\n",
       "    </tr>\n",
       "    <tr>\n",
       "      <th>76</th>\n",
       "      <td>India</td>\n",
       "      <td>7909959</td>\n",
       "      <td>119014</td>\n",
       "      <td>7137228</td>\n",
       "    </tr>\n",
       "    <tr>\n",
       "      <th>110</th>\n",
       "      <td>Mexico</td>\n",
       "      <td>891160</td>\n",
       "      <td>88924</td>\n",
       "      <td>752691</td>\n",
       "    </tr>\n",
       "    <tr>\n",
       "      <th>179</th>\n",
       "      <td>United Kingdom</td>\n",
       "      <td>876840</td>\n",
       "      <td>44986</td>\n",
       "      <td>2685</td>\n",
       "    </tr>\n",
       "    <tr>\n",
       "      <th>82</th>\n",
       "      <td>Italy</td>\n",
       "      <td>525782</td>\n",
       "      <td>37338</td>\n",
       "      <td>266203</td>\n",
       "    </tr>\n",
       "    <tr>\n",
       "      <th>159</th>\n",
       "      <td>Spain</td>\n",
       "      <td>1046132</td>\n",
       "      <td>34752</td>\n",
       "      <td>150376</td>\n",
       "    </tr>\n",
       "    <tr>\n",
       "      <th>59</th>\n",
       "      <td>France</td>\n",
       "      <td>1130143</td>\n",
       "      <td>34673</td>\n",
       "      <td>114534</td>\n",
       "    </tr>\n",
       "    <tr>\n",
       "      <th>132</th>\n",
       "      <td>Peru</td>\n",
       "      <td>888715</td>\n",
       "      <td>34149</td>\n",
       "      <td>803846</td>\n",
       "    </tr>\n",
       "    <tr>\n",
       "      <th>78</th>\n",
       "      <td>Iran, Islamic Republic of</td>\n",
       "      <td>568896</td>\n",
       "      <td>32616</td>\n",
       "      <td>455054</td>\n",
       "    </tr>\n",
       "  </tbody>\n",
       "</table>\n",
       "</div>"
      ],
      "text/plain": [
       "                       country  confirmed  deaths  recovered\n",
       "180   United States of America    8635966  225229    3422878\n",
       "23                      Brazil    5380635  156903    4526393\n",
       "76                       India    7909959  119014    7137228\n",
       "110                     Mexico     891160   88924     752691\n",
       "179             United Kingdom     876840   44986       2685\n",
       "82                       Italy     525782   37338     266203\n",
       "159                      Spain    1046132   34752     150376\n",
       "59                      France    1130143   34673     114534\n",
       "132                       Peru     888715   34149     803846\n",
       "78   Iran, Islamic Republic of     568896   32616     455054"
      ]
     },
     "execution_count": 25,
     "metadata": {},
     "output_type": "execute_result"
    }
   ],
   "source": [
    "# top 10 countries with worst covid death rate\n",
    "df.sort_values(by=['deaths'], ascending=False)[:10]"
   ]
  },
  {
   "cell_type": "markdown",
   "metadata": {},
   "source": [
    "# Part 5"
   ]
  },
  {
   "cell_type": "code",
   "execution_count": 26,
   "metadata": {},
   "outputs": [],
   "source": [
    "r = requests.get('https://data.lacity.org/api/views/2nrs-mtv8/rows.json')\n",
    "j = r.json()"
   ]
  },
  {
   "cell_type": "code",
   "execution_count": 27,
   "metadata": {},
   "outputs": [
    {
     "data": {
      "text/plain": [
       "155196"
      ]
     },
     "execution_count": 27,
     "metadata": {},
     "output_type": "execute_result"
    }
   ],
   "source": [
    "len(j['data'])"
   ]
  },
  {
   "cell_type": "code",
   "execution_count": 28,
   "metadata": {},
   "outputs": [],
   "source": [
    "crimes = []\n",
    "for x in j['data']:\n",
    "    crime = x[17]\n",
    "    crimes.append(crime)"
   ]
  },
  {
   "cell_type": "code",
   "execution_count": 29,
   "metadata": {},
   "outputs": [
    {
     "data": {
      "text/plain": [
       "0                             BATTERY - SIMPLE ASSAULT\n",
       "1                             BATTERY - SIMPLE ASSAULT\n",
       "2      THEFT FROM MOTOR VEHICLE - PETTY ($950 & UNDER)\n",
       "3             VANDALISM - MISDEAMEANOR ($399 OR UNDER)\n",
       "4    VANDALISM - FELONY ($400 & OVER, ALL CHURCH VA...\n",
       "5                                       RAPE, FORCIBLE\n",
       "6             SHOPLIFTING - PETTY THEFT ($950 & UNDER)\n",
       "7                            OTHER MISCELLANEOUS CRIME\n",
       "8    THEFT-GRAND ($950.01 & OVER)EXCPT,GUNS,FOWL,LI...\n",
       "9    VANDALISM - FELONY ($400 & OVER, ALL CHURCH VA...\n",
       "Name: crimes, dtype: object"
      ]
     },
     "execution_count": 29,
     "metadata": {},
     "output_type": "execute_result"
    }
   ],
   "source": [
    "crimes = pd.Series(crimes, name='crimes')\n",
    "crimes[:10]"
   ]
  },
  {
   "cell_type": "code",
   "execution_count": 30,
   "metadata": {},
   "outputs": [
    {
     "data": {
      "text/plain": [
       "VEHICLE - STOLEN                                           16175\n",
       "BATTERY - SIMPLE ASSAULT                                   13325\n",
       "VANDALISM - FELONY ($400 & OVER, ALL CHURCH VANDALISMS)    10324\n",
       "BURGLARY FROM VEHICLE                                      10100\n",
       "BURGLARY                                                   10014\n",
       "ASSAULT WITH DEADLY WEAPON, AGGRAVATED ASSAULT              9155\n",
       "INTIMATE PARTNER - SIMPLE ASSAULT                           8752\n",
       "THEFT PLAIN - PETTY ($950 & UNDER)                          8347\n",
       "THEFT FROM MOTOR VEHICLE - PETTY ($950 & UNDER)             7796\n",
       "VANDALISM - MISDEAMEANOR ($399 OR UNDER)                    5639\n",
       "Name: crimes, dtype: int64"
      ]
     },
     "execution_count": 30,
     "metadata": {},
     "output_type": "execute_result"
    }
   ],
   "source": [
    "# top 10 crimes in LA\n",
    "crimes.value_counts().sort_values(ascending=False).head(10)"
   ]
  },
  {
   "cell_type": "code",
   "execution_count": 31,
   "metadata": {},
   "outputs": [
    {
     "data": {
      "text/plain": [
       "CRIMINAL HOMICIDE    264\n",
       "Name: crimes, dtype: int64"
      ]
     },
     "execution_count": 31,
     "metadata": {},
     "output_type": "execute_result"
    }
   ],
   "source": [
    "# how many were homicides\n",
    "crimes[crimes.str.contains('hom', case=False)].value_counts()"
   ]
  },
  {
   "cell_type": "code",
   "execution_count": null,
   "metadata": {},
   "outputs": [],
   "source": []
  },
  {
   "cell_type": "code",
   "execution_count": null,
   "metadata": {},
   "outputs": [],
   "source": []
  }
 ],
 "metadata": {
  "kernelspec": {
   "display_name": "Python 3",
   "language": "python",
   "name": "python3"
  },
  "language_info": {
   "codemirror_mode": {
    "name": "ipython",
    "version": 3
   },
   "file_extension": ".py",
   "mimetype": "text/x-python",
   "name": "python",
   "nbconvert_exporter": "python",
   "pygments_lexer": "ipython3",
   "version": "3.8.5"
  }
 },
 "nbformat": 4,
 "nbformat_minor": 4
}
